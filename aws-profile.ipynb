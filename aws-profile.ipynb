{
 "cells": [
  {
   "cell_type": "code",
   "execution_count": 1,
   "metadata": {},
   "outputs": [],
   "source": [
    "import boto3"
   ]
  },
  {
   "cell_type": "code",
   "execution_count": 4,
   "metadata": {},
   "outputs": [],
   "source": [
    "boto3.setup_default_session(profile_name='aveek2021')"
   ]
  },
  {
   "cell_type": "code",
   "execution_count": 3,
   "metadata": {},
   "outputs": [
    {
     "name": "stdout",
     "output_type": "stream",
     "text": [
      "ad-athena-datasets\n",
      "ad-quicksight-datasets\n",
      "cs-athena-demo-1283\n",
      "csv-redshift-221\n",
      "wordpress-social\n"
     ]
    }
   ],
   "source": [
    "client = boto3.client('s3')\n",
    "\n",
    "response_json = client.list_buckets()\n",
    "for bucket in response_json['Buckets']:\n",
    "    print(f\"{bucket['Name']}\")"
   ]
  }
 ],
 "metadata": {
  "interpreter": {
   "hash": "2368d7b09fea555450c734fc62dec647121e9ecfb1377b929b8fd8364e61a28e"
  },
  "kernelspec": {
   "display_name": "Python 3.9.10 ('.venv': venv)",
   "language": "python",
   "name": "python3"
  },
  "language_info": {
   "codemirror_mode": {
    "name": "ipython",
    "version": 3
   },
   "file_extension": ".py",
   "mimetype": "text/x-python",
   "name": "python",
   "nbconvert_exporter": "python",
   "pygments_lexer": "ipython3",
   "version": "3.9.10"
  },
  "orig_nbformat": 4
 },
 "nbformat": 4,
 "nbformat_minor": 2
}
